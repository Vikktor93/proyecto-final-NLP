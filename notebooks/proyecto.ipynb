{
 "cells": [
  {
   "cell_type": "markdown",
   "id": "2d7395a0",
   "metadata": {},
   "source": [
    "<div>\n",
    "<img src=\"https://i.ibb.co/v3CvVz9/udd-short.png\" width=\"150\"/>\n",
    "    <br>\n",
    "    <strong>Universidad del Desarrollo</strong><br>\n",
    "    <em>Magíster en Data Science</em><br>\n",
    "    <em>Profesora: Maria Paz Raveau</em><br>\n",
    "    <em>Asignatura: Procesamiento de Lenguaje Natural</em><br>\n",
    "\n",
    "</div>"
   ]
  },
  {
   "cell_type": "markdown",
   "id": "6d451bd4",
   "metadata": {},
   "source": [
    "## **Proyecto Final PLN: Sesgo en Word Embeddings (WEAT)**\n",
    "**Curso:** Procesamiento de Lenguaje Natural – Magíster en Data Science UDD (2025) \n",
    "\n",
    "*Fecha de Entrega: Martes 02, Septiembre 2025.*\n",
    "\n",
    "**Estudiantes**: Victor Saldivia Vera, Cristian Tobar, Joaquin Leiva.\n",
    "\n",
    "### **1. Instrucciones y Enunciado**\n",
    "\n",
    "Se ha dicho que los modelos de WordEmbeddings contienen sesgos. Se solicita investigar qué\n",
    "sesgos han sido identificados en la literatura, y buscar al menos una métrica para evaluar alguno de\n",
    "estos sesgos. Testear esta métrica en algunos de los modelos pre-entrenados en idioma\n",
    "español y concluir respecto al sesgo encontrado (o no encontrado). \n",
    "\n",
    "El entregable es un reporte de las siguientes características:\n",
    "\n",
    "- **Introducción** sobre sesgos que han sido identificados en modelos de embeddings *(máximo\n",
    "1200 palabras, 10 puntos)*. Se evaluará el uso de literatura pertinente. Ser informativo:\n",
    "¿Qué sesgo se han identificados?, ¿Qué corpus fue utilizado?, ¿Con qué métricas? En esta sección deberá\n",
    "explicitar que sesgo se eligió para testear, qué métrica y con qué modelo pre-entrenado en\n",
    "español se trabajó. Todo debe estar debidamente referenciado.\n",
    "- **Método:** explicar qué métrica fue utilizada para evaluar la presencia del sesgo. Se debe explicar la\n",
    "métrica, no el código. El código se entregará como anexo y no será necesariamente\n",
    "revisado *(máximo 500 palabras, 5 puntos)*.\n",
    "- **Resultados/Conclusiones:** Reportar los resultados y concluir respecto a la ideonidad\n",
    "de la métrica usada, y a la presencia o no de sesgo en el corpus. ¿Son consistentes sus\n",
    "resultados con los reportados en la literatura? *(700 palabras máximo)*.\n",
    "- Referencias."
   ]
  },
  {
   "cell_type": "markdown",
   "id": "562471c1",
   "metadata": {},
   "source": [
    "### **2. Breve Introducción**\n",
    "En este cuaderno Jupyter se implementa el **Word Embedding Association Test (WEAT)** para evaluar la presencia de sesgos de género en *word embeddings* en español.  \n",
    "\n",
    "Se utiliza como **modelo principal** `fastText` en español (`cc.es.300.vec`) y opcionalmente `SBW` (Spanish Billion Words, word2vec).  \n",
    "\n",
    "El enfoque está en el **sesgo de género** (hombre ↔ carrera vs mujer ↔ familia)."
   ]
  },
  {
   "cell_type": "markdown",
   "id": "5823a0a2",
   "metadata": {},
   "source": [
    "### **3. Imports y Seeds**"
   ]
  },
  {
   "cell_type": "code",
   "execution_count": 1,
   "id": "d07c5d2d",
   "metadata": {},
   "outputs": [
    {
     "name": "stderr",
     "output_type": "stream",
     "text": [
      "c:\\Users\\victo\\anaconda3\\envs\\nlp_weat\\lib\\site-packages\\pandas\\core\\computation\\expressions.py:21: UserWarning: Pandas requires version '2.8.4' or newer of 'numexpr' (version '2.7.3' currently installed).\n",
      "  from pandas.core.computation.check import NUMEXPR_INSTALLED\n",
      "c:\\Users\\victo\\anaconda3\\envs\\nlp_weat\\lib\\site-packages\\scipy\\__init__.py:146: UserWarning: A NumPy version >=1.17.3 and <1.25.0 is required for this version of SciPy (detected version 1.26.4\n",
      "  warnings.warn(f\"A NumPy version >={np_minversion} and <{np_maxversion}\"\n"
     ]
    }
   ],
   "source": [
    "import os, gzip, zipfile, shutil, json, random\n",
    "from pathlib import Path\n",
    "from typing import List, Tuple, Dict\n",
    "\n",
    "import numpy as np\n",
    "import pandas as pd\n",
    "import matplotlib.pyplot as plt\n",
    "from tqdm import tqdm\n",
    "from gensim.models import KeyedVectors"
   ]
  },
  {
   "cell_type": "code",
   "execution_count": 2,
   "id": "80e01e42",
   "metadata": {},
   "outputs": [],
   "source": [
    "RANDOM_SEED = 42\n",
    "random.seed(RANDOM_SEED)\n",
    "np.random.seed(RANDOM_SEED)"
   ]
  },
  {
   "cell_type": "markdown",
   "id": "1b07f74a",
   "metadata": {},
   "source": [
    "### **3. Ajustes de Rutas del Proyecto**"
   ]
  },
  {
   "cell_type": "code",
   "execution_count": 3,
   "id": "c485da0b",
   "metadata": {},
   "outputs": [
    {
     "name": "stdout",
     "output_type": "stream",
     "text": [
      "Raíz del proyecto: C:\\Users\\victo\\OneDrive\\Documentos\\Programming-2025\\UDD-2025\\NLP\\Proyecto\n",
      "Embeddings directorio: C:\\Users\\victo\\OneDrive\\Documentos\\Programming-2025\\UDD-2025\\NLP\\Proyecto\\data_embeddings\n",
      "Outputs directorio: C:\\Users\\victo\\OneDrive\\Documentos\\Programming-2025\\UDD-2025\\NLP\\Proyecto\\outputs\n"
     ]
    }
   ],
   "source": [
    "# Se sube un nivel para llegar a la raíz del proyecto:\n",
    "PROJECT_ROOT = Path(\"..\").resolve()\n",
    "\n",
    "# Carpeta de embeddings y de salidas en la raíz del repositorio\n",
    "DATA_DIR   = PROJECT_ROOT / \"data_embeddings\"\n",
    "OUTPUT_DIR = PROJECT_ROOT / \"outputs\"\n",
    "\n",
    "# Se crean las carpetas si no existen\n",
    "DATA_DIR.mkdir(exist_ok=True, parents=True)\n",
    "OUTPUT_DIR.mkdir(exist_ok=True, parents=True)\n",
    "\n",
    "print(\"Raíz del proyecto:\", PROJECT_ROOT)\n",
    "print(\"Embeddings directorio:\", DATA_DIR)\n",
    "print(\"Outputs directorio:\", OUTPUT_DIR)"
   ]
  },
  {
   "cell_type": "markdown",
   "id": "d744c249",
   "metadata": {},
   "source": [
    "### **4.  Modelos Pre-entrenados en Español**\n",
    "\n",
    "Para este proyecto utilizamos embeddings **pre-entrenados**, que son vectores generados a partir de grandes corpus de texto.  \n",
    "\n",
    "- **fastText (cc.es.300.vec.gz)** → entrenado en *Common Crawl + Wikipedia*, con 300 dimensiones y subpalabras.  \n",
    "- **SBW word2vec (sbw-300-min5.vec.gz)** → entrenado en *Spanish Billion Words Corpus* (aprox 1.5 Billones de tokens).  \n",
    "\n",
    "*Observaciones:*\n",
    "\n",
    "- *Ambos se deben descargar y colocar en la carpeta `data_embeddings/`*\n",
    "- *El archivo `.gz` se descomprime a `.vec` antes de cargarse con `gensim`*"
   ]
  },
  {
   "cell_type": "markdown",
   "id": "7ec2fdc0",
   "metadata": {},
   "source": [
    "Se crea un `función` de nombre `gunzip` que descomprime un `.gz` a `.vec` (texto). No hace nada si ya existe el `.vec`."
   ]
  },
  {
   "cell_type": "code",
   "execution_count": 4,
   "id": "c46df9ec",
   "metadata": {},
   "outputs": [
    {
     "name": "stdout",
     "output_type": "stream",
     "text": [
      "Ya existe: C:\\Users\\victo\\OneDrive\\Documentos\\Programming-2025\\UDD-2025\\NLP\\Proyecto\\data_embeddings\\cc.es.300.vec\n",
      "Ya existe: C:\\Users\\victo\\OneDrive\\Documentos\\Programming-2025\\UDD-2025\\NLP\\Proyecto\\data_embeddings\\SBW-vectors-300-min5.txt\n",
      "\n",
      "Resumen:\n",
      " - fastText .vec: True C:\\Users\\victo\\OneDrive\\Documentos\\Programming-2025\\UDD-2025\\NLP\\Proyecto\\data_embeddings\\cc.es.300.vec\n",
      " - SBW (Kaggle .txt): True C:\\Users\\victo\\OneDrive\\Documentos\\Programming-2025\\UDD-2025\\NLP\\Proyecto\\data_embeddings\\SBW-vectors-300-min5.txt\n",
      " - SBW (legado .vec): False C:\\Users\\victo\\OneDrive\\Documentos\\Programming-2025\\UDD-2025\\NLP\\Proyecto\\data_embeddings\\sbw-300-min5.vec\n"
     ]
    }
   ],
   "source": [
    "# FastText: .gz -> .vec\n",
    "FASTTEXT_VEC_GZ  = DATA_DIR / \"cc.es.300.vec.gz\"\n",
    "FASTTEXT_VEC_TXT = DATA_DIR / \"cc.es.300.vec\"\n",
    "\n",
    "# SBW: esta en formato .zip\n",
    "# Se busca cualquier zip que empiece con \"SBW-vectors\"\n",
    "SBW_ZIP = None\n",
    "for f in DATA_DIR.glob(\"SBW-vectors*.zip\"):\n",
    "    SBW_ZIP = f\n",
    "    break\n",
    "\n",
    "# Archivo esperado después de descomprimir\n",
    "SBW_VEC_TXT = DATA_DIR / \"SBW-vectors-300-min5.txt\"\n",
    "\n",
    "# (Compatibilidad) SBW legado: .gz -> .vec\n",
    "SBW_VEC_GZ_LEGACY  = DATA_DIR / \"sbw-300-min5.vec.gz\"\n",
    "SBW_VEC_TXT_LEGACY = DATA_DIR / \"sbw-300-min5.vec\"\n",
    "\n",
    "def gunzip(src_gz: Path, dst_txt: Path):\n",
    "    if dst_txt.exists():\n",
    "        print(\"Ya existe:\", dst_txt)\n",
    "        return True\n",
    "    if not src_gz.exists():\n",
    "        print(\"No se encuentra:\", src_gz)\n",
    "        return False\n",
    "    print(\"Descomprimiendo .gz →\", dst_txt.name)\n",
    "    with gzip.open(src_gz, 'rb') as f_in, open(dst_txt, 'wb') as f_out:\n",
    "        shutil.copyfileobj(f_in, f_out)\n",
    "    print(\"Listo:\", dst_txt)\n",
    "    return True\n",
    "\n",
    "def unzip(src_zip: Path, expected_txt: Path, dest_dir: Path):\n",
    "    if expected_txt.exists():\n",
    "        print(\"Ya existe:\", expected_txt)\n",
    "        return True\n",
    "    if not src_zip or not src_zip.exists():\n",
    "        print(\"No se encontró el archivo zip:\", src_zip)\n",
    "        return False\n",
    "    print(\"Descomprimiendo .zip →\", dest_dir)\n",
    "    with zipfile.ZipFile(src_zip, 'r') as zf:\n",
    "        zf.extractall(dest_dir)\n",
    "        names = zf.namelist()\n",
    "    if expected_txt.exists():\n",
    "        print(\"Listo:\", expected_txt)\n",
    "        return True\n",
    "    else:\n",
    "        print(\"Extraído, pero no se encontro el archivo esperado:\", expected_txt.name)\n",
    "        print(\"Archivos en el zip:\", names[:10], \"... (máximo 10)\")\n",
    "        return False\n",
    "\n",
    "# PROCESO\n",
    "# 1. fastText (.gz → .vec)\n",
    "_ = gunzip(FASTTEXT_VEC_GZ, FASTTEXT_VEC_TXT)\n",
    "\n",
    "# 2. SBW Kaggle (.zip/.txt.zip → .txt)\n",
    "ok_sbw = False\n",
    "if SBW_ZIP:\n",
    "    ok_sbw = unzip(SBW_ZIP, SBW_VEC_TXT, DATA_DIR)\n",
    "\n",
    "# 3. Si no hubo zip Kaggle, intentar legado (.gz → .vec)\n",
    "if not ok_sbw and SBW_VEC_GZ_LEGACY.exists():\n",
    "    ok_sbw = gunzip(SBW_VEC_GZ_LEGACY, SBW_VEC_TXT_LEGACY)\n",
    "\n",
    "print(\"\\nResumen:\")\n",
    "print(\" - fastText .vec:\", FASTTEXT_VEC_TXT.exists(), FASTTEXT_VEC_TXT)\n",
    "print(\" - SBW (Kaggle .txt):\", SBW_VEC_TXT.exists(), SBW_VEC_TXT)\n",
    "print(\" - SBW (legado .vec):\", SBW_VEC_TXT_LEGACY.exists(), SBW_VEC_TXT_LEGACY)\n",
    "\n",
    "\n"
   ]
  },
  {
   "cell_type": "markdown",
   "id": "b64bae1a",
   "metadata": {},
   "source": [
    "### **5. Carga de Emebeddings**\n",
    "\n",
    "Se cargan los **.vec/.txt** con `gensim` (formato Word2Vec/fastText de **texto**).\n",
    "- En este caso **NO** se necesita instalar la librería `fasttext` nativa.\n",
    "- Se puede utilizar `limit=N` para pruebas rápidas (carga parcial del vocabulario).\n"
   ]
  },
  {
   "cell_type": "code",
   "execution_count": 5,
   "id": "e1a953dc",
   "metadata": {},
   "outputs": [
    {
     "name": "stdout",
     "output_type": "stream",
     "text": [
      "Cargando: C:\\Users\\victo\\OneDrive\\Documentos\\Programming-2025\\UDD-2025\\NLP\\Proyecto\\data_embeddings\\cc.es.300.vec  (binary=False, limit=None)\n",
      "Vocabulario cargado: 2,000,000 tokens | Dimensiones: 300\n",
      "Cargando: C:\\Users\\victo\\OneDrive\\Documentos\\Programming-2025\\UDD-2025\\NLP\\Proyecto\\data_embeddings\\SBW-vectors-300-min5.txt  (binary=False, limit=None)\n",
      "Vocabulario cargado: 1,000,653 tokens | Dimensiones: 300\n"
     ]
    }
   ],
   "source": [
    "def load_embeddings(path: Path, binary: bool = False, limit: int = None) -> KeyedVectors:\n",
    "    if not path.exists():\n",
    "        raise FileNotFoundError(f\"No existe el archivo: {path}\")\n",
    "    print(f\"Cargando: {path}  (binary={binary}, limit={limit})\")\n",
    "    kv = KeyedVectors.load_word2vec_format(str(path), binary=binary, limit=limit, unicode_errors=\"ignore\")\n",
    "    print(f\"Vocabulario cargado: {len(kv.index_to_key):,} tokens | Dimensiones: {kv.vector_size}\")\n",
    "    return kv\n",
    "\n",
    "fasttext_kv = None\n",
    "sbw_kv = None\n",
    "\n",
    "# FastText principal\n",
    "if FASTTEXT_VEC_TXT.exists():\n",
    "    fasttext_kv = load_embeddings(FASTTEXT_VEC_TXT, binary=False, limit=None)\n",
    "else:\n",
    "    print(\"Sugerencia: coloca 'cc.es.300.vec.gz' en ../data_embeddings/ y ejecuta la celda de descompresión\")\n",
    "\n",
    "# SBW preferente (Kaggle .txt)\n",
    "if SBW_VEC_TXT.exists():\n",
    "    sbw_kv = load_embeddings(SBW_VEC_TXT, binary=False, limit=None)\n",
    "# Alternativa (legado .vec)\n",
    "elif SBW_VEC_TXT_LEGACY.exists():\n",
    "    sbw_kv = load_embeddings(SBW_VEC_TXT_LEGACY, binary=False, limit=None)\n"
   ]
  },
  {
   "cell_type": "markdown",
   "id": "19043132",
   "metadata": {},
   "source": [
    "### **6. Word Embedding Association Test (WEAT)**\n",
    "\n",
    "Para cada palabra $w$:\n",
    "\n",
    "$$\n",
    "s(w,A,B) = \\frac{1}{|A|}\\sum_{a\\in A}\\cos(\\vec w,\\vec a) - \\frac{1}{|B|}\\sum_{b\\in B}\\cos(\\vec w,\\vec b)\n",
    "$$\n",
    "\n",
    "El **tamaño de efecto** (d de Cohen):\n",
    "\n",
    "$$\n",
    "d = \\frac{\\mu_{x \\in X} \\, s(x,A,B) - \\mu_{y \\in Y} \\, s(y,A,B)}\n",
    "         {\\sigma_{w \\in X \\cup Y} \\, s(w,A,B)}\n",
    "$$\n",
    "\n",
    "La **significancia** se estima con **permutaciones** de $X \\cup Y$ (p-valor uni/bilateral).\n",
    "\n"
   ]
  },
  {
   "cell_type": "code",
   "execution_count": 6,
   "id": "5a4d824d",
   "metadata": {},
   "outputs": [],
   "source": [
    "def cosine(u: np.ndarray, v: np.ndarray) -> float:\n",
    "    denom = (np.linalg.norm(u) * np.linalg.norm(v))\n",
    "    if denom == 0.0:\n",
    "        return 0.0\n",
    "    return float(np.dot(u, v) / denom)\n",
    "\n",
    "def mean_cosine(w_vec: np.ndarray, attr_vecs: List[np.ndarray]) -> float:\n",
    "    if not attr_vecs:\n",
    "        return 0.0\n",
    "    return float(np.mean([cosine(w_vec, a) for a in attr_vecs]))\n",
    "\n",
    "def s_w_A_B(w: str, kv: KeyedVectors, A: List[str], B: List[str]) -> float:\n",
    "    return mean_cosine(kv[w], [kv[a] for a in A]) - mean_cosine(kv[w], [kv[b] for b in B])\n",
    "\n",
    "def weat_effect_size(X: List[str], Y: List[str], A: List[str], B: List[str], kv: KeyedVectors) -> float:\n",
    "    s_X = [s_w_A_B(x, kv, A, B) for x in X]\n",
    "    s_Y = [s_w_A_B(y, kv, A, B) for y in Y]\n",
    "    mu_X, mu_Y = np.mean(s_X), np.mean(s_Y)\n",
    "    s_all = np.array(s_X + s_Y, dtype=float)\n",
    "    sigma = np.std(s_all, ddof=1) if len(s_all) > 1 else 0.0\n",
    "    return float((mu_X - mu_Y) / sigma) if sigma > 0 else float('nan')\n",
    "\n",
    "def weat_permutation_test(X: List[str], Y: List[str], A: List[str], B: List[str],\n",
    "                          kv: KeyedVectors, n_samples: int = 10000, seed: int = 42) -> Dict[str, float]:\n",
    "    rng = np.random.default_rng(seed)\n",
    "    obs = weat_effect_size(X, Y, A, B, kv)\n",
    "    pool = np.array(X + Y)\n",
    "    nX = len(X)\n",
    "\n",
    "    null_effects = np.empty(n_samples, dtype=float)\n",
    "    for i in range(n_samples):\n",
    "        perm = rng.permutation(pool)\n",
    "        Xp, Yp = list(perm[:nX]), list(perm[nX:])\n",
    "        null_effects[i] = weat_effect_size(Xp, Yp, A, B, kv)\n",
    "\n",
    "    if np.isnan(obs):\n",
    "        p_one = np.nan; p_two = np.nan\n",
    "    else:\n",
    "        p_one = float(np.mean(null_effects >= obs)) if obs >= 0 else float(np.mean(null_effects <= obs))\n",
    "        p_two = float(np.mean(np.abs(null_effects) >= abs(obs)))\n",
    "\n",
    "    return {\n",
    "        \"effect_observed\": float(obs),\n",
    "        \"null_mean\": float(np.nanmean(null_effects)),\n",
    "        \"null_std\": float(np.nanstd(null_effects, ddof=1)),\n",
    "        \"p_value_one_sided\": p_one,\n",
    "        \"p_value_two_sided\": p_two,\n",
    "        \"n_permutations\": int(n_samples)\n",
    "    }\n"
   ]
  },
  {
   "cell_type": "markdown",
   "id": "b2f759df",
   "metadata": {},
   "source": [
    "### **7. Listas de Palabras en Español**\n",
    "\n",
    "Se utilizarán las listas canónicas para **género ↔ carrera/familia** donde se normalizará a *minúsculas y sin tildes* para mejorar la cobertura.\n"
   ]
  },
  {
   "cell_type": "code",
   "execution_count": 7,
   "id": "366289c2",
   "metadata": {},
   "outputs": [
    {
     "data": {
      "text/plain": [
       "(['hombre',\n",
       "  'varon',\n",
       "  'masculino',\n",
       "  'padre',\n",
       "  'tio',\n",
       "  'rey',\n",
       "  'esposo',\n",
       "  'chico',\n",
       "  'senor'],\n",
       " ['mujer',\n",
       "  'femenina',\n",
       "  'dama',\n",
       "  'madre',\n",
       "  'tia',\n",
       "  'reina',\n",
       "  'esposa',\n",
       "  'chica',\n",
       "  'senora'],\n",
       " ['carrera',\n",
       "  'profesion',\n",
       "  'oficio',\n",
       "  'empresa',\n",
       "  'negocio',\n",
       "  'salario',\n",
       "  'gerencia',\n",
       "  'trabajo',\n",
       "  'puesto',\n",
       "  'ascenso',\n",
       "  'contrato',\n",
       "  'jornada'],\n",
       " ['familia',\n",
       "  'hogar',\n",
       "  'ninos',\n",
       "  'cocina',\n",
       "  'cuidado',\n",
       "  'parientes',\n",
       "  'bebe',\n",
       "  'matrimonio',\n",
       "  'crianza',\n",
       "  'casa'])"
      ]
     },
     "execution_count": 7,
     "metadata": {},
     "output_type": "execute_result"
    }
   ],
   "source": [
    "# Targets (de género)\n",
    "X_masc = [\"hombre\", \"varon\", \"masculino\", \"padre\", \"tio\", \"rey\", \"esposo\", \"chico\", \"senor\"]\n",
    "Y_fem  = [\"mujer\",  \"femenina\", \"dama\", \"madre\", \"tia\", \"reina\", \"esposa\", \"chica\", \"senora\"]\n",
    "\n",
    "# Atributos: carrera vs familia\n",
    "A_carrera = [\"carrera\", \"profesion\", \"oficio\", \"empresa\", \"negocio\", \"salario\",\n",
    "             \"gerencia\", \"trabajo\", \"puesto\", \"ascenso\", \"contrato\", \"jornada\"]\n",
    "B_familia = [\"familia\", \"hogar\", \"ninos\", \"cocina\", \"cuidado\", \"parientes\",\n",
    "             \"bebe\", \"matrimonio\", \"crianza\", \"casa\"]\n",
    "\n",
    "def to_lower_noacc(words: List[str]) -> List[str]:\n",
    "    repl = str.maketrans(\"áéíóúüñÁÉÍÓÚÜÑ\", \"aeiouunAEIOUUN\")\n",
    "    return [w.translate(repl).lower() for w in words]\n",
    "\n",
    "X, Y, A, B = map(to_lower_noacc, [X_masc, Y_fem, A_carrera, B_familia])\n",
    "X, Y, A, B"
   ]
  },
  {
   "cell_type": "markdown",
   "id": "a8febb39",
   "metadata": {},
   "source": [
    "### **8. Revisión de Vocabulario (OOV)**\n",
    "\n",
    "En modelos de *word embeddings*, el vocabulario está compuesto solo por las palabras que el modelo vio en su entrenamiento. Cuando utilizamos una palabra que **no está en ese vocabulario**, se dice que es **OOV (*Out-Of-Vocabulary*)**.  \n",
    "Esto significa que el modelo **no puede generar un vector** para esa palabra.\n",
    "\n",
    "#### ¿Por qué es importante?\n",
    "- Si alguna de nuestras palabras objetivo (por ejemplo: *hombre*, *mujer*) o atributos (por ejemplo: *profesión*, *hogar*) está OOV, **no podrá participar en el test WEAT**.  \n",
    "- Muchas palabras OOV pueden sesgar o debilitar los resultados.  \n",
    "\n",
    "\n",
    "A continuación, se revisa para cada lista (X masculino, Y femenino, A carrera, B familia), cuántas palabras están presentes en el modelo y cuántas son OOV.  \n",
    "- Si encontramos OOV importantes, podemos realizar las siguientes acciones:\n",
    "  - Normalizar las minúsculas, quitar tildes (ya aplicado).\n",
    "  - Usar variantes (*niño* ↔ *ninos*, *profesión* ↔ *profesion*).\n",
    "  - Sustituir por sinónimos que sí existan en el vocabulario del modelo.\n"
   ]
  },
  {
   "cell_type": "code",
   "execution_count": 10,
   "id": "fdd8737c",
   "metadata": {},
   "outputs": [
    {
     "name": "stdout",
     "output_type": "stream",
     "text": [
      "\n",
      "========= Cobertura en modelo: fastText-es (.vec) =========\n",
      "X (masc) → presentes: 9, OOV: 0\n",
      "Y (fem) → presentes: 9, OOV: 0\n",
      "A (carrera) → presentes: 12, OOV: 0\n",
      "B (familia) → presentes: 10, OOV: 0\n",
      "\n",
      "========= Cobertura en modelo: SBW-es (.txt/.vec) =========\n",
      "X (masc) → presentes: 9, OOV: 0\n",
      "Y (fem) → presentes: 9, OOV: 0\n",
      "A (carrera) → presentes: 12, OOV: 0\n",
      "B (familia) → presentes: 10, OOV: 0\n"
     ]
    }
   ],
   "source": [
    "def oov_report(kv: KeyedVectors, words: List[str]) -> Tuple[List[str], List[str]]:\n",
    "    present, missing = [], []\n",
    "    for w in words:\n",
    "        (present if w in kv else missing).append(w)\n",
    "    return present, missing\n",
    "\n",
    "def check_model_coverage(kv: KeyedVectors, model_name: str):\n",
    "    print(f\"\\n========= Cobertura en modelo: {model_name} =========\")\n",
    "    for label, lst in [(\"X (masc)\", X), (\"Y (fem)\", Y), (\"A (carrera)\", A), (\"B (familia)\", B)]:\n",
    "        present, missing = oov_report(kv, lst)\n",
    "        print(f\"{label} → presentes: {len(present)}, OOV: {len(missing)}\")\n",
    "        if missing: print(\"   OOV:\", \", \".join(missing))\n",
    "\n",
    "if fasttext_kv is not None:\n",
    "    check_model_coverage(fasttext_kv, \"fastText-es (.vec)\")\n",
    "if sbw_kv is not None:\n",
    "    check_model_coverage(sbw_kv, \"SBW-es (.txt/.vec)\")"
   ]
  },
  {
   "cell_type": "markdown",
   "id": "1461e426",
   "metadata": {},
   "source": [
    "Antes de ejecutar el experimento, se realizó la verificación anterior de cobertura de vocabulario (Out-Of-Vocabulary, OOV) para asegurar que todas las palabras seleccionadas en las listas de género (X e Y) y atributos (A y B) estuvieran representadas en los modelos de word embeddings. Los resultados muestran que tanto en el modelo `fastText` en español `(cc.es.300.vec)` como en el modelo `SBW (SBW-vectors-300-min5.txt)`, la totalidad de los términos definidos se encontraron presentes en el vocabulario, sin registrar palabras OOV. Este hallazgo es relevante, ya que garantiza que el test `WEAT` puede aplicarse sobre los conjuntos completos, evitando la pérdida de información o sesgos adicionales derivados de la ausencia de palabras en los modelos."
   ]
  },
  {
   "cell_type": "markdown",
   "id": "d00318e1",
   "metadata": {},
   "source": [
    "### **9. Ejecución del Test (permutaciones)**\n",
    "\n",
    "Para cada modelo cargado, se calcula:\n",
    "- **Tamaño de efecto (d)**\n",
    "- **p-valor (uni/bilateral)** por permutaciones (por ejemplo: 10.000)\n",
    "- **Tiempo de ejecución**\n"
   ]
  },
  {
   "cell_type": "code",
   "execution_count": 11,
   "id": "083df92a",
   "metadata": {},
   "outputs": [
    {
     "data": {
      "text/plain": [
       "[{'effect_observed': 0.6719242957805729,\n",
       "  'null_mean': -0.0024692069805884063,\n",
       "  'null_std': 0.4714608198676436,\n",
       "  'p_value_one_sided': 0.0793,\n",
       "  'p_value_two_sided': 0.1562,\n",
       "  'n_permutations': 10000,\n",
       "  'model': 'fastText-es (.vec)',\n",
       "  'runtime_sec': 69.99},\n",
       " {'effect_observed': 0.4753165760414193,\n",
       "  'null_mean': 6.961889300489599e-05,\n",
       "  'null_std': 0.4721595458674472,\n",
       "  'p_value_one_sided': 0.168,\n",
       "  'p_value_two_sided': 0.333,\n",
       "  'n_permutations': 10000,\n",
       "  'model': 'SBW-es (.txt/.vec)',\n",
       "  'runtime_sec': 89.19}]"
      ]
     },
     "execution_count": 11,
     "metadata": {},
     "output_type": "execute_result"
    }
   ],
   "source": [
    "from time import time\n",
    "\n",
    "def run_weat_for_model(kv: KeyedVectors, model_name: str, n_perm: int = 10000) -> Dict[str, float]:\n",
    "    t0 = time()\n",
    "    stats = weat_permutation_test(X, Y, A, B, kv, n_samples=n_perm, seed=RANDOM_SEED)\n",
    "    stats[\"model\"] = model_name\n",
    "    stats[\"runtime_sec\"] = round(time() - t0, 2)\n",
    "    return stats\n",
    "\n",
    "results = []\n",
    "\n",
    "if fasttext_kv is not None:\n",
    "    results.append(run_weat_for_model(fasttext_kv, \"fastText-es (.vec)\", n_perm=10000))\n",
    "if sbw_kv is not None:\n",
    "    results.append(run_weat_for_model(sbw_kv, \"SBW-es (.txt/.vec)\", n_perm=10000))\n",
    "\n",
    "results"
   ]
  },
  {
   "cell_type": "markdown",
   "id": "1027327f",
   "metadata": {},
   "source": [
    "#### **Conclusión preliminar**\n",
    "- Ambos embeddings contienen indicios de sesgo de género (efectos positivos).\n",
    "- `fastText` muestra un sesgo más marcado que `SBW`, aunque sin evidencia estadísticamente significativa bajo el umbral clásico.\n",
    "- Esto puede explicarse porque:\n",
    "    - `fastText` se entrena en un corpus más grande y diverso (Common Crawl + Wikipedia).\n",
    "    - `SBW` está limitado al *Spanish Billion Words Corpus*, con distribución distinta."
   ]
  },
  {
   "cell_type": "markdown",
   "id": "5a50e81f",
   "metadata": {},
   "source": [
    "Los resultados del test WEAT muestran tamaños de efecto moderados en ambos modelos (d=0.67 en fastText y d=0.47 en SBW), lo que sugiere la existencia de asociaciones de género en los embeddings. Sin embargo, los valores p obtenidos no alcanzan significancia estadística bajo el umbral tradicional (p < 0.05). Esto indica que, si bien existe una tendencia consistente, la evidencia no es concluyente. Estos hallazgos son consistentes con literatura previa que reporta la presencia de sesgos en embeddings entrenados en grandes corpus en español, aunque la magnitud y significancia varía según el modelo y los datos de entrenamiento."
   ]
  },
  {
   "cell_type": "markdown",
   "id": "a6f308c2",
   "metadata": {},
   "source": [
    "### **10. Visualización de `s(w, A, B)` por Palabra Objetivo**\n",
    "\n",
    "A continuación se muestra las contribuciones por término (Una figura por gráfico; sin estilos/colores explícitos.)\n"
   ]
  },
  {
   "cell_type": "code",
   "execution_count": 12,
   "id": "440f0a17",
   "metadata": {},
   "outputs": [
    {
     "data": {
      "image/png": "[encoded data removed]",
      "text/plain": [
       "<Figure size 640x480 with 1 Axes>"
      ]
     },
     "metadata": {},
     "output_type": "display_data"
    },
    {
     "data": {
      "image/png": "[encoded data removed]",
      "text/plain": [
       "<Figure size 640x480 with 1 Axes>"
      ]
     },
     "metadata": {},
     "output_type": "display_data"
    }
   ],
   "source": [
    "def s_values_by_word(kv: KeyedVectors, X: List[str], Y: List[str], A: List[str], B: List[str]) -> Dict[str, float]:\n",
    "    return {w: s_w_A_B(w, kv, A, B) for w in X + Y if w in kv}\n",
    "\n",
    "def plot_s_values(kv: KeyedVectors, model_name: str):\n",
    "    vals = s_values_by_word(kv, X, Y, A, B)\n",
    "    words, svals = list(vals.keys()), list(vals.values())\n",
    "    plt.figure()\n",
    "    plt.bar(range(len(words)), svals)\n",
    "    plt.xticks(range(len(words)), words, rotation=60, ha='right')\n",
    "    plt.title(f\"s(w, A, B) – {model_name}\")\n",
    "    plt.ylabel(\"s(w, A, B)\")\n",
    "    plt.tight_layout()\n",
    "    plt.show()\n",
    "\n",
    "if fasttext_kv is not None:\n",
    "    plot_s_values(fasttext_kv, \"fastText-es (.vec)\")\n",
    "if sbw_kv is not None:\n",
    "    plot_s_values(sbw_kv, \"SBW-es (.txt/.vec)\")"
   ]
  }
 ],
 "metadata": {
  "kernelspec": {
   "display_name": "nlp_weat",
   "language": "python",
   "name": "python3"
  },
  "language_info": {
   "codemirror_mode": {
    "name": "ipython",
    "version": 3
   },
   "file_extension": ".py",
   "mimetype": "text/x-python",
   "name": "python",
   "nbconvert_exporter": "python",
   "pygments_lexer": "ipython3",
   "version": "3.10.18"
  }
 },
 "nbformat": 4,
 "nbformat_minor": 5
}
